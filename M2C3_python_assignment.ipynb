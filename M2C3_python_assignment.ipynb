{
 "cells": [
  {
   "cell_type": "markdown",
   "metadata": {},
   "source": [
    "# M2C3 Python Assignment"
   ]
  },
  {
   "cell_type": "markdown",
   "metadata": {},
   "source": [
    "Exercise 1: Create a string, number, list, and boolean, each stored in their own variable.\n",
    "\n",
    "- A string is a stored text.\n",
    "- There are two number types in python, integers (int) and floats (float). Integers are full numbers and floats are numbers with decimals.\n",
    "- Lists, as the name implies, are collections that can contain listed strings, numbers, or even other lists (and some other data types).\n",
    "- Booleans are True or False.\n",
    "\n",
    "Below I show each data type stored in their own variable"
   ]
  },
  {
   "cell_type": "code",
   "execution_count": 1,
   "metadata": {},
   "outputs": [],
   "source": [
    "# String. For example, a full name can be a str data type.\n",
    "\n",
    "full_name = \"Andrea Ruiz\""
   ]
  },
  {
   "cell_type": "code",
   "execution_count": 2,
   "metadata": {},
   "outputs": [],
   "source": [
    "# Numbers. \n",
    "\n",
    "age = 27 # The age is a int type, because it is a whole value\n",
    "\n",
    "concert_price = 50.78 # This concert_price would be a float type, because it is a number with decimals"
   ]
  },
  {
   "cell_type": "code",
   "execution_count": 3,
   "metadata": {},
   "outputs": [],
   "source": [
    "# Booleans. There are two boolean values: True and False \n",
    "\n",
    "true_boolean = True\n",
    "\n",
    "false_boolean = False"
   ]
  },
  {
   "cell_type": "code",
   "execution_count": null,
   "metadata": {},
   "outputs": [],
   "source": [
    "# List\n",
    "\n",
    "shopping_list = [\"Potatoes\", \"Cheese\", \"Water\"] # This is a str list\n",
    "\n",
    "exam_scores = [8, 5, 9, 3] # This is a list of int values\n",
    "\n",
    "combined_list = [\"Different data types\", 27, 50.78, False, [8, 5, 9, 3]] # This is a combined list that has a str, an int, a float, a boolean and a list"
   ]
  },
  {
   "cell_type": "markdown",
   "metadata": {},
   "source": [
    "Exercise 2: Use an index to grab the first 3 letters in your string, store that in a variable. "
   ]
  },
  {
   "cell_type": "code",
   "execution_count": 5,
   "metadata": {},
   "outputs": [
    {
     "name": "stdout",
     "output_type": "stream",
     "text": [
      "And\n"
     ]
    }
   ],
   "source": [
    "first_three_letters = full_name[:3] # This takes from the starting position (index 0) to the position 2, because 3 is not included\n",
    "\n",
    "print(first_three_letters) # So this has to print And because these are the first 3 letters from my string"
   ]
  },
  {
   "cell_type": "markdown",
   "metadata": {},
   "source": [
    "Exercise 3: Use an index to grab the first element from your list.\n",
    "\n",
    "I will select the shopping list for this exercise, and I will store it in a variable."
   ]
  },
  {
   "cell_type": "code",
   "execution_count": 6,
   "metadata": {},
   "outputs": [
    {
     "name": "stdout",
     "output_type": "stream",
     "text": [
      "Potatoes\n"
     ]
    }
   ],
   "source": [
    "first_list_element = shopping_list[0] # The index starts from 0, so the first would be in the position 0\n",
    "\n",
    "print(first_list_element) # So this has to print \"Potatoes\""
   ]
  },
  {
   "cell_type": "markdown",
   "metadata": {},
   "source": [
    "Exercise 4: Create a new number variable that adds 10 to your original number."
   ]
  },
  {
   "cell_type": "code",
   "execution_count": null,
   "metadata": {},
   "outputs": [
    {
     "name": "stdout",
     "output_type": "stream",
     "text": [
      "37\n"
     ]
    }
   ],
   "source": [
    "future_age = age + 10 # By adding the \"+\" it sums 10 to the stored age value\n",
    "\n",
    "print(future_age) # So this has to print 37"
   ]
  },
  {
   "cell_type": "markdown",
   "metadata": {},
   "source": [
    "Exercise 5: Use an index to get the last element in your list.\n",
    "\n",
    "In this exercise I will also select the shopping list.\n",
    "\n",
    "The last element in the list can be extracted in two different ways, by counting the position of the last element or by using index -1. By using the index -1 you ensure it is the last, so if you add more elements at the end of the list, this still gives the last element, while the other way the index has to be changed to the new index value."
   ]
  },
  {
   "cell_type": "code",
   "execution_count": 8,
   "metadata": {},
   "outputs": [
    {
     "name": "stdout",
     "output_type": "stream",
     "text": [
      "Water\n"
     ]
    }
   ],
   "source": [
    "# Select the last element counting indexes\n",
    "\n",
    "last_list_element_from_start = shopping_list[2] # I have 3 elements, so the indexes are 0, 1 and 2, being 2 the last element's index.\n",
    "\n",
    "print(last_list_element_from_start) # So this has to print \"Water\""
   ]
  },
  {
   "cell_type": "code",
   "execution_count": null,
   "metadata": {},
   "outputs": [
    {
     "name": "stdout",
     "output_type": "stream",
     "text": [
      "Water\n"
     ]
    }
   ],
   "source": [
    "#Select the last element from the end\n",
    "\n",
    "last_list_element_from_end = shopping_list[-1] # To select it from the end of the list, the index of -1 is used.\n",
    "\n",
    "print(last_list_element_from_end) #This also has to print \"Water\""
   ]
  },
  {
   "cell_type": "markdown",
   "metadata": {},
   "source": [
    "Exercise 6: Use split to transform the following string into a list.\n",
    "\n",
    "\tnames = 'harry,alex,susie,jared,gail,conner'\n",
    "\n",
    "The split takes the delimiter that separates the string into the elements that I want to add to the list. In this case the delimiter is the comma."
   ]
  },
  {
   "cell_type": "code",
   "execution_count": 10,
   "metadata": {},
   "outputs": [
    {
     "name": "stdout",
     "output_type": "stream",
     "text": [
      "['harry', 'alex', 'susie', 'jared', 'gail', 'conner']\n"
     ]
    }
   ],
   "source": [
    "names = 'harry,alex,susie,jared,gail,conner' # 6 names separated with coma in the same string\n",
    "\n",
    "names_list = names.split(\",\") # The delimiter is \",\" so this separates each name to become a list element\n",
    "\n",
    "print(names_list) #So this has to print a list that contains 6 different names"
   ]
  },
  {
   "cell_type": "markdown",
   "metadata": {},
   "source": [
    "Exercise 7: Get the first word from your string using indexes. Use the upper function to transform the letters into uppercase. Create a new string that takes the uppercase word and the rest of the original string.\n",
    "\n",
    "My string has two words, and the first word starts from position 0 to position 5 (6 letters). Therefore, I will first extract the first word using the indexes, and as the last index is not included while grabbing the letters, I will start from the starting with \":\" to the index 6 (which is not included)"
   ]
  },
  {
   "cell_type": "code",
   "execution_count": null,
   "metadata": {},
   "outputs": [
    {
     "name": "stdout",
     "output_type": "stream",
     "text": [
      "Andrea\n"
     ]
    }
   ],
   "source": [
    "# Step 1: Extract the dirst word\n",
    "\n",
    "first_word = full_name[:6]\n",
    "\n",
    "print(first_word) #So this has to print \"Andrea\""
   ]
  },
  {
   "cell_type": "code",
   "execution_count": null,
   "metadata": {},
   "outputs": [
    {
     "name": "stdout",
     "output_type": "stream",
     "text": [
      "ANDREA\n"
     ]
    }
   ],
   "source": [
    "# Step 2: Transform all the word to uppercase\n",
    "\n",
    "uppercase_word = first_word.upper() # I can select the first three positions and store just those three in uppercas by doing first_word[:3].upper()\n",
    "\n",
    "print(uppercase_word) # This has to print the whole word to uppercase"
   ]
  },
  {
   "cell_type": "code",
   "execution_count": null,
   "metadata": {},
   "outputs": [
    {
     "name": "stdout",
     "output_type": "stream",
     "text": [
      "ANDrea\n"
     ]
    }
   ],
   "source": [
    "# Step 3: select the first three uppercase letters and add the last three default lowercase letters\n",
    "\n",
    "upper_and_lower_name = uppercase_word[:3] + first_word[3:] # Select from the upper case word from 0 to 3 (not included) and from the default from 3 to the end.\n",
    "\n",
    "print(upper_and_lower_name) #So this should print ANDrea"
   ]
  },
  {
   "cell_type": "markdown",
   "metadata": {},
   "source": [
    "Exercise 8: Use string interpolation to print out a sentence that contains your number variable.\n",
    "\n",
    "Using f-string for interpolation allows to include variables inside the key parenthesis. So the value of the variable is printed."
   ]
  },
  {
   "cell_type": "code",
   "execution_count": null,
   "metadata": {},
   "outputs": [
    {
     "name": "stdout",
     "output_type": "stream",
     "text": [
      "I am 27 years old\n"
     ]
    }
   ],
   "source": [
    "print(f\"I am {age} years old\") # As age goes inside key parenthesis, it will print the stored value inside the age variable, which is 27."
   ]
  },
  {
   "cell_type": "markdown",
   "metadata": {},
   "source": [
    "Exercise 9: Print “hello world”."
   ]
  },
  {
   "cell_type": "code",
   "execution_count": null,
   "metadata": {},
   "outputs": [
    {
     "name": "stdout",
     "output_type": "stream",
     "text": [
      "Hello world\n"
     ]
    }
   ],
   "source": [
    "print(\"Hello world\") # This prints the string directly to the console."
   ]
  },
  {
   "cell_type": "markdown",
   "metadata": {},
   "source": [
    "Extra exercise: Necesito que me crees una cadena que contenga la palabra \"Hola\". Usando la palabra clave en el método de búsqueda o el índice, busque y seleccione \"Hola\" en su cadena. Y usando la función de reemplazo, reemplace \"Hola\" en su cadena con \"adiós\".\n",
    "\n",
    "Para este ejercicio se va a usar el método find(). Este metodo lo que hace es buscar la primera aparición del str que se ha especificado dentro de los paréntesis. Si la sub-string buscada está presente dentro de la string almacenada en la variable a la que se le aplica el método, se devuelve el índice de la primera aparición. Si no se encentra dentro, devuelve un -1. \n",
    "\n",
    "También se podría usar el método de index() para poder encontrar el índice, lo malo es que en este caso, si la subcadena buscada no aparece en la cadena, en vez de devolverte un valor de -1 daría un error.\n",
    "\n",
    "Para reemplazar la palabra \"Hola\" por \"Adiós\" se puede usar el método replace(). Este método reemplazaría todas las apariciones de \"Hola\" por \"Adiós\"."
   ]
  },
  {
   "cell_type": "code",
   "execution_count": null,
   "metadata": {},
   "outputs": [],
   "source": [
    "# Mi cadena que contiene \"Hola\"\n",
    "\n",
    "cadena_hola = \"Hola mi nombre es Andrea\""
   ]
  },
  {
   "cell_type": "code",
   "execution_count": null,
   "metadata": {},
   "outputs": [
    {
     "name": "stdout",
     "output_type": "stream",
     "text": [
      "0\n"
     ]
    }
   ],
   "source": [
    "# Búsqueda del índice de Hola usando el método find()\n",
    "\n",
    "indice_hola = cadena_hola.find(\"Hola\") # Como es la primera palabra, esto imprimiría índice 0\n",
    "\n",
    "print(indice_hola)"
   ]
  },
  {
   "cell_type": "code",
   "execution_count": null,
   "metadata": {},
   "outputs": [
    {
     "name": "stdout",
     "output_type": "stream",
     "text": [
      "Adiós mi nombre es Andrea\n"
     ]
    }
   ],
   "source": [
    "# Reemplazo de la palabra \"Hola\" de mi cadena usando el método replace()\n",
    "\n",
    "cadena_adios = cadena_hola.replace(\"Hola\", \"Adiós\") # El primer valor es el que se busca, el segundo por el que se reemplaza\n",
    "\n",
    "print(cadena_adios) # Aquí debería imprimirse \"Adiós mi nombre es Andrea\""
   ]
  }
 ],
 "metadata": {
  "kernelspec": {
   "display_name": "base",
   "language": "python",
   "name": "python3"
  },
  "language_info": {
   "codemirror_mode": {
    "name": "ipython",
    "version": 3
   },
   "file_extension": ".py",
   "mimetype": "text/x-python",
   "name": "python",
   "nbconvert_exporter": "python",
   "pygments_lexer": "ipython3",
   "version": "3.11.8"
  }
 },
 "nbformat": 4,
 "nbformat_minor": 2
}
